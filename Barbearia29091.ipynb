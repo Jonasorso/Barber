{
 "cells": [
  {
   "cell_type": "code",
   "execution_count": 6,
   "metadata": {
    "id": "LQ6A-3pWRCU6"
   },
   "outputs": [],
   "source": [
    "# biblioteca utilizada principalmente para análises de dados tabulares\n",
    "import pandas as pd\n",
    "# biblioteca para trabalhar com vetores, matrizes, enfim, utilizada para várias\n",
    "# aplicações relacionadas a matemática, estatística, etc.\n",
    "import numpy as np\n",
    "# bibliotecas (seaborn e matplotlib) utilizadas para visualização de dados ou \n",
    "# estatísticas\n",
    "import seaborn as sns\n",
    "import matplotlib.pyplot as plt\n",
    "\n",
    "%matplotlib inline     \n",
    "sns.set(color_codes=True)\n",
    "from numpy import array\n",
    "from numpy import argmax\n",
    "from sklearn.preprocessing import LabelEncoder\n",
    "from sklearn.preprocessing import OneHotEncoder"
   ]
  },
  {
   "cell_type": "code",
   "execution_count": 9,
   "metadata": {
    "colab": {
     "base_uri": "https://localhost:8080/",
     "height": 1000
    },
    "id": "jMK9oUsER7RA",
    "outputId": "c676b3fd-a9c1-4dc7-d45f-145d6002fdfc"
   },
   "outputs": [
    {
     "data": {
      "text/html": [
       "<div>\n",
       "<style scoped>\n",
       "    .dataframe tbody tr th:only-of-type {\n",
       "        vertical-align: middle;\n",
       "    }\n",
       "\n",
       "    .dataframe tbody tr th {\n",
       "        vertical-align: top;\n",
       "    }\n",
       "\n",
       "    .dataframe thead th {\n",
       "        text-align: right;\n",
       "    }\n",
       "</style>\n",
       "<table border=\"1\" class=\"dataframe\">\n",
       "  <thead>\n",
       "    <tr style=\"text-align: right;\">\n",
       "      <th></th>\n",
       "      <th>servico</th>\n",
       "      <th>cliente</th>\n",
       "      <th>profissional</th>\n",
       "      <th>data</th>\n",
       "      <th>valor</th>\n",
       "      <th>pagamento</th>\n",
       "      <th>status</th>\n",
       "      <th>quem cadastrou</th>\n",
       "      <th>data de cadastro</th>\n",
       "    </tr>\n",
       "  </thead>\n",
       "  <tbody>\n",
       "    <tr>\n",
       "      <th>0</th>\n",
       "      <td>Cabelo. Barba e Sobrancelha</td>\n",
       "      <td>Edemar Jung</td>\n",
       "      <td>Josias Mascarello</td>\n",
       "      <td>07/01/2021 16:00</td>\n",
       "      <td>2.53</td>\n",
       "      <td>Nao Informado</td>\n",
       "      <td>C</td>\n",
       "      <td>Josias Mascarello</td>\n",
       "      <td>08/01/2021 17:12</td>\n",
       "    </tr>\n",
       "    <tr>\n",
       "      <th>1</th>\n",
       "      <td>Barba</td>\n",
       "      <td>Maikiel Bosing</td>\n",
       "      <td>Josias Mascarello</td>\n",
       "      <td>15/01/2021 15:00</td>\n",
       "      <td>3</td>\n",
       "      <td>Dinheiro</td>\n",
       "      <td>R</td>\n",
       "      <td>Josias Mascarello</td>\n",
       "      <td>30/12/2020 11:09</td>\n",
       "    </tr>\n",
       "    <tr>\n",
       "      <th>2</th>\n",
       "      <td>Cabelo e Sobrancelha</td>\n",
       "      <td>Kelvin Ersico</td>\n",
       "      <td>Josias Mascarello</td>\n",
       "      <td>15/01/2021 09:00</td>\n",
       "      <td>3.54</td>\n",
       "      <td>Dinheiro</td>\n",
       "      <td>R</td>\n",
       "      <td>Kelvin Ersico</td>\n",
       "      <td>13/01/2021 23:20</td>\n",
       "    </tr>\n",
       "    <tr>\n",
       "      <th>3</th>\n",
       "      <td>Cabelo. Barba e Sobrancelha</td>\n",
       "      <td>Edemar Jung</td>\n",
       "      <td>Josias Mascarello</td>\n",
       "      <td>07/01/2021 16:00</td>\n",
       "      <td>4.44</td>\n",
       "      <td>Dinheiro</td>\n",
       "      <td>C</td>\n",
       "      <td>Josias Mascarello</td>\n",
       "      <td>08/01/2021 09:12</td>\n",
       "    </tr>\n",
       "    <tr>\n",
       "      <th>4</th>\n",
       "      <td>Sobrancelha</td>\n",
       "      <td>Diane Jung</td>\n",
       "      <td>Josias Mascarello</td>\n",
       "      <td>29/12/2020 09:00</td>\n",
       "      <td>4.45</td>\n",
       "      <td>Dinheiro</td>\n",
       "      <td>R</td>\n",
       "      <td>Josias Mascarello</td>\n",
       "      <td>29/12/2020 11:42</td>\n",
       "    </tr>\n",
       "    <tr>\n",
       "      <th>5</th>\n",
       "      <td>Sobrancelha</td>\n",
       "      <td>Diane Jung</td>\n",
       "      <td>Josias Mascarello</td>\n",
       "      <td>09/01/2021 17:00</td>\n",
       "      <td>4.74</td>\n",
       "      <td>Dinheiro</td>\n",
       "      <td>R</td>\n",
       "      <td>Josias Mascarello</td>\n",
       "      <td>12/01/2021 10:10</td>\n",
       "    </tr>\n",
       "    <tr>\n",
       "      <th>6</th>\n",
       "      <td>Sobrancelha</td>\n",
       "      <td>Sem Cadastro</td>\n",
       "      <td>Josias Mascarello</td>\n",
       "      <td>16/12/2020 09:00</td>\n",
       "      <td>4.87</td>\n",
       "      <td>Dinheiro</td>\n",
       "      <td>R</td>\n",
       "      <td>Josias Mascarello</td>\n",
       "      <td>16/12/2020 14:29</td>\n",
       "    </tr>\n",
       "    <tr>\n",
       "      <th>7</th>\n",
       "      <td>Sobrancelha</td>\n",
       "      <td>Jonas Orso</td>\n",
       "      <td>Josias Mascarello</td>\n",
       "      <td>06/11/2020 19:00</td>\n",
       "      <td>5</td>\n",
       "      <td>Cartao de Credito</td>\n",
       "      <td>R</td>\n",
       "      <td>Josias Mascarello</td>\n",
       "      <td>06/11/2020 19:40</td>\n",
       "    </tr>\n",
       "    <tr>\n",
       "      <th>8</th>\n",
       "      <td>Sobrancelha</td>\n",
       "      <td>Isadora da Silva</td>\n",
       "      <td>Josias Mascarello</td>\n",
       "      <td>16/12/2020 18:00</td>\n",
       "      <td>5</td>\n",
       "      <td>Dinheiro</td>\n",
       "      <td>R</td>\n",
       "      <td>Josias Mascarello</td>\n",
       "      <td>16/12/2020 16:14</td>\n",
       "    </tr>\n",
       "    <tr>\n",
       "      <th>9</th>\n",
       "      <td>Sobrancelha</td>\n",
       "      <td>Edemar Jung</td>\n",
       "      <td>Josias Mascarello</td>\n",
       "      <td>23/12/2020 18:30</td>\n",
       "      <td>6.36</td>\n",
       "      <td>Dinheiro</td>\n",
       "      <td>R</td>\n",
       "      <td>Josias Mascarello</td>\n",
       "      <td>23/12/2020 19:12</td>\n",
       "    </tr>\n",
       "  </tbody>\n",
       "</table>\n",
       "</div>"
      ],
      "text/plain": [
       "                       servico           cliente       profissional  \\\n",
       "0  Cabelo. Barba e Sobrancelha       Edemar Jung  Josias Mascarello   \n",
       "1                        Barba    Maikiel Bosing  Josias Mascarello   \n",
       "2         Cabelo e Sobrancelha     Kelvin Ersico  Josias Mascarello   \n",
       "3  Cabelo. Barba e Sobrancelha       Edemar Jung  Josias Mascarello   \n",
       "4                  Sobrancelha        Diane Jung  Josias Mascarello   \n",
       "5                  Sobrancelha        Diane Jung  Josias Mascarello   \n",
       "6                  Sobrancelha      Sem Cadastro  Josias Mascarello   \n",
       "7                  Sobrancelha        Jonas Orso  Josias Mascarello   \n",
       "8                  Sobrancelha  Isadora da Silva  Josias Mascarello   \n",
       "9                  Sobrancelha       Edemar Jung  Josias Mascarello   \n",
       "\n",
       "               data valor          pagamento status     quem cadastrou  \\\n",
       "0  07/01/2021 16:00  2.53      Nao Informado      C  Josias Mascarello   \n",
       "1  15/01/2021 15:00     3           Dinheiro      R  Josias Mascarello   \n",
       "2  15/01/2021 09:00  3.54           Dinheiro      R      Kelvin Ersico   \n",
       "3  07/01/2021 16:00  4.44           Dinheiro      C  Josias Mascarello   \n",
       "4  29/12/2020 09:00  4.45           Dinheiro      R  Josias Mascarello   \n",
       "5  09/01/2021 17:00  4.74           Dinheiro      R  Josias Mascarello   \n",
       "6  16/12/2020 09:00  4.87           Dinheiro      R  Josias Mascarello   \n",
       "7  06/11/2020 19:00     5  Cartao de Credito      R  Josias Mascarello   \n",
       "8  16/12/2020 18:00     5           Dinheiro      R  Josias Mascarello   \n",
       "9  23/12/2020 18:30  6.36           Dinheiro      R  Josias Mascarello   \n",
       "\n",
       "   data de cadastro  \n",
       "0  08/01/2021 17:12  \n",
       "1  30/12/2020 11:09  \n",
       "2  13/01/2021 23:20  \n",
       "3  08/01/2021 09:12  \n",
       "4  29/12/2020 11:42  \n",
       "5  12/01/2021 10:10  \n",
       "6  16/12/2020 14:29  \n",
       "7  06/11/2020 19:40  \n",
       "8  16/12/2020 16:14  \n",
       "9  23/12/2020 19:12  "
      ]
     },
     "execution_count": 9,
     "metadata": {},
     "output_type": "execute_result"
    }
   ],
   "source": [
    "# faz a leitura do dataset\n",
    "#df = pd.read_csv(\"drive/MyDrive/topicos avançados/dados2.csv\", sep=';', encoding='latin-1')\n",
    "df = pd.read_csv('./dataset/dados2.csv', sep = ';', encoding = 'utf-8')\n",
    "df.columns= df.columns.str.lower()\n",
    "# exibe as cinco primeiras linhas dos dados\n",
    "df = df.rename(columns={\"forma pgto.\": \"pagamento\" })\n",
    "df.head(10) "
   ]
  },
  {
   "cell_type": "code",
   "execution_count": 10,
   "metadata": {
    "colab": {
     "base_uri": "https://localhost:8080/"
    },
    "id": "T1cavWQ9YN7U",
    "outputId": "883487e0-f1a7-4925-92f4-780e4ce78f43"
   },
   "outputs": [
    {
     "ename": "ValueError",
     "evalue": "Unable to parse string \"Nao Informado\" at position 2247",
     "output_type": "error",
     "traceback": [
      "\u001b[1;31m---------------------------------------------------------------------------\u001b[0m",
      "\u001b[1;31mValueError\u001b[0m                                Traceback (most recent call last)",
      "\u001b[1;32m~\\.conda\\envs\\BARBER\\lib\\site-packages\\pandas\\_libs\\lib.pyx\u001b[0m in \u001b[0;36mpandas._libs.lib.maybe_convert_numeric\u001b[1;34m()\u001b[0m\n",
      "\u001b[1;31mValueError\u001b[0m: Unable to parse string \"Nao Informado\"",
      "\nDuring handling of the above exception, another exception occurred:\n",
      "\u001b[1;31mValueError\u001b[0m                                Traceback (most recent call last)",
      "\u001b[1;32mC:\\Users\\JONAS~1.ORS\\AppData\\Local\\Temp/ipykernel_8576/472440087.py\u001b[0m in \u001b[0;36m<module>\u001b[1;34m\u001b[0m\n\u001b[0;32m      1\u001b[0m \u001b[0mdf\u001b[0m\u001b[1;33m.\u001b[0m\u001b[0mdtypes\u001b[0m\u001b[1;33m\u001b[0m\u001b[1;33m\u001b[0m\u001b[0m\n\u001b[1;32m----> 2\u001b[1;33m \u001b[0mdf\u001b[0m\u001b[1;33m[\u001b[0m\u001b[1;34m'valor'\u001b[0m\u001b[1;33m]\u001b[0m \u001b[1;33m=\u001b[0m \u001b[0mpd\u001b[0m\u001b[1;33m.\u001b[0m\u001b[0mto_numeric\u001b[0m\u001b[1;33m(\u001b[0m\u001b[0mdf\u001b[0m\u001b[1;33m[\u001b[0m\u001b[1;34m'valor'\u001b[0m\u001b[1;33m]\u001b[0m\u001b[1;33m)\u001b[0m\u001b[1;33m\u001b[0m\u001b[1;33m\u001b[0m\u001b[0m\n\u001b[0m\u001b[0;32m      3\u001b[0m \u001b[0mdf\u001b[0m\u001b[1;33m.\u001b[0m\u001b[0mdtypes\u001b[0m\u001b[1;33m\u001b[0m\u001b[1;33m\u001b[0m\u001b[0m\n",
      "\u001b[1;32m~\\.conda\\envs\\BARBER\\lib\\site-packages\\pandas\\core\\tools\\numeric.py\u001b[0m in \u001b[0;36mto_numeric\u001b[1;34m(arg, errors, downcast)\u001b[0m\n\u001b[0;32m    182\u001b[0m         \u001b[0mcoerce_numeric\u001b[0m \u001b[1;33m=\u001b[0m \u001b[0merrors\u001b[0m \u001b[1;32mnot\u001b[0m \u001b[1;32min\u001b[0m \u001b[1;33m(\u001b[0m\u001b[1;34m\"ignore\"\u001b[0m\u001b[1;33m,\u001b[0m \u001b[1;34m\"raise\"\u001b[0m\u001b[1;33m)\u001b[0m\u001b[1;33m\u001b[0m\u001b[1;33m\u001b[0m\u001b[0m\n\u001b[0;32m    183\u001b[0m         \u001b[1;32mtry\u001b[0m\u001b[1;33m:\u001b[0m\u001b[1;33m\u001b[0m\u001b[1;33m\u001b[0m\u001b[0m\n\u001b[1;32m--> 184\u001b[1;33m             values, _ = lib.maybe_convert_numeric(\n\u001b[0m\u001b[0;32m    185\u001b[0m                 \u001b[0mvalues\u001b[0m\u001b[1;33m,\u001b[0m \u001b[0mset\u001b[0m\u001b[1;33m(\u001b[0m\u001b[1;33m)\u001b[0m\u001b[1;33m,\u001b[0m \u001b[0mcoerce_numeric\u001b[0m\u001b[1;33m=\u001b[0m\u001b[0mcoerce_numeric\u001b[0m\u001b[1;33m\u001b[0m\u001b[1;33m\u001b[0m\u001b[0m\n\u001b[0;32m    186\u001b[0m             )\n",
      "\u001b[1;32m~\\.conda\\envs\\BARBER\\lib\\site-packages\\pandas\\_libs\\lib.pyx\u001b[0m in \u001b[0;36mpandas._libs.lib.maybe_convert_numeric\u001b[1;34m()\u001b[0m\n",
      "\u001b[1;31mValueError\u001b[0m: Unable to parse string \"Nao Informado\" at position 2247"
     ]
    }
   ],
   "source": [
    "df.dtypes\n",
    "df['valor'] = pd.to_numeric(df['valor'])\n",
    "df.dtypes"
   ]
  },
  {
   "cell_type": "code",
   "execution_count": null,
   "metadata": {
    "colab": {
     "base_uri": "https://localhost:8080/",
     "height": 539
    },
    "id": "ElR_rq0qZdy6",
    "outputId": "99e51ed3-4dbb-42b2-a4c0-c115d3704b8f"
   },
   "outputs": [
    {
     "data": {
      "text/html": [
       "<div>\n",
       "<style scoped>\n",
       "    .dataframe tbody tr th:only-of-type {\n",
       "        vertical-align: middle;\n",
       "    }\n",
       "\n",
       "    .dataframe tbody tr th {\n",
       "        vertical-align: top;\n",
       "    }\n",
       "\n",
       "    .dataframe thead th {\n",
       "        text-align: right;\n",
       "    }\n",
       "</style>\n",
       "<table border=\"1\" class=\"dataframe\">\n",
       "  <thead>\n",
       "    <tr style=\"text-align: right;\">\n",
       "      <th></th>\n",
       "      <th>serviço</th>\n",
       "      <th>cliente</th>\n",
       "      <th>profissional</th>\n",
       "      <th>data</th>\n",
       "      <th>valor</th>\n",
       "      <th>pagamento</th>\n",
       "      <th>status</th>\n",
       "      <th>quem cadastrou</th>\n",
       "      <th>data de cadastro</th>\n",
       "    </tr>\n",
       "  </thead>\n",
       "  <tbody>\n",
       "    <tr>\n",
       "      <th>0</th>\n",
       "      <td>Cabelo. Barba e Sobrancelha</td>\n",
       "      <td>Edemar Jung</td>\n",
       "      <td>Josias Mascarello</td>\n",
       "      <td>07/01/2021 16:00</td>\n",
       "      <td>2.53</td>\n",
       "      <td>NaN</td>\n",
       "      <td>C</td>\n",
       "      <td>Josias Mascarello</td>\n",
       "      <td>08/01/2021 17:12</td>\n",
       "    </tr>\n",
       "    <tr>\n",
       "      <th>1</th>\n",
       "      <td>Barba</td>\n",
       "      <td>Maikiel Bosing</td>\n",
       "      <td>Josias Mascarello</td>\n",
       "      <td>15/01/2021 15:00</td>\n",
       "      <td>3.00</td>\n",
       "      <td>Dinheiro</td>\n",
       "      <td>R</td>\n",
       "      <td>Josias Mascarello</td>\n",
       "      <td>30/12/2020 11:09</td>\n",
       "    </tr>\n",
       "    <tr>\n",
       "      <th>2</th>\n",
       "      <td>Cabelo e Sobrancelha</td>\n",
       "      <td>Kelvin Ersico</td>\n",
       "      <td>Josias Mascarello</td>\n",
       "      <td>15/01/2021 09:00</td>\n",
       "      <td>3.54</td>\n",
       "      <td>Dinheiro</td>\n",
       "      <td>R</td>\n",
       "      <td>Kelvin Ersico</td>\n",
       "      <td>13/01/2021 23:20</td>\n",
       "    </tr>\n",
       "    <tr>\n",
       "      <th>3</th>\n",
       "      <td>Cabelo. Barba e Sobrancelha</td>\n",
       "      <td>Edemar Jung</td>\n",
       "      <td>Josias Mascarello</td>\n",
       "      <td>07/01/2021 16:00</td>\n",
       "      <td>4.44</td>\n",
       "      <td>Dinheiro</td>\n",
       "      <td>C</td>\n",
       "      <td>Josias Mascarello</td>\n",
       "      <td>08/01/2021 09:12</td>\n",
       "    </tr>\n",
       "    <tr>\n",
       "      <th>4</th>\n",
       "      <td>Sobrancelha</td>\n",
       "      <td>Diane Jung</td>\n",
       "      <td>Josias Mascarello</td>\n",
       "      <td>29/12/2020 09:00</td>\n",
       "      <td>4.45</td>\n",
       "      <td>Dinheiro</td>\n",
       "      <td>R</td>\n",
       "      <td>Josias Mascarello</td>\n",
       "      <td>29/12/2020 11:42</td>\n",
       "    </tr>\n",
       "    <tr>\n",
       "      <th>5</th>\n",
       "      <td>Sobrancelha</td>\n",
       "      <td>Diane Jung</td>\n",
       "      <td>Josias Mascarello</td>\n",
       "      <td>09/01/2021 17:00</td>\n",
       "      <td>4.74</td>\n",
       "      <td>Dinheiro</td>\n",
       "      <td>R</td>\n",
       "      <td>Josias Mascarello</td>\n",
       "      <td>12/01/2021 10:10</td>\n",
       "    </tr>\n",
       "    <tr>\n",
       "      <th>6</th>\n",
       "      <td>Sobrancelha</td>\n",
       "      <td>Sem Cadastro</td>\n",
       "      <td>Josias Mascarello</td>\n",
       "      <td>16/12/2020 09:00</td>\n",
       "      <td>4.87</td>\n",
       "      <td>Dinheiro</td>\n",
       "      <td>R</td>\n",
       "      <td>Josias Mascarello</td>\n",
       "      <td>16/12/2020 14:29</td>\n",
       "    </tr>\n",
       "    <tr>\n",
       "      <th>7</th>\n",
       "      <td>Sobrancelha</td>\n",
       "      <td>Jonas Orso</td>\n",
       "      <td>Josias Mascarello</td>\n",
       "      <td>06/11/2020 19:00</td>\n",
       "      <td>5.00</td>\n",
       "      <td>Cartão de Crédito</td>\n",
       "      <td>R</td>\n",
       "      <td>Josias Mascarello</td>\n",
       "      <td>06/11/2020 19:40</td>\n",
       "    </tr>\n",
       "    <tr>\n",
       "      <th>8</th>\n",
       "      <td>Sobrancelha</td>\n",
       "      <td>Isadora da Silva</td>\n",
       "      <td>Josias Mascarello</td>\n",
       "      <td>16/12/2020 18:00</td>\n",
       "      <td>5.00</td>\n",
       "      <td>Dinheiro</td>\n",
       "      <td>R</td>\n",
       "      <td>Josias Mascarello</td>\n",
       "      <td>16/12/2020 16:14</td>\n",
       "    </tr>\n",
       "    <tr>\n",
       "      <th>9</th>\n",
       "      <td>Sobrancelha</td>\n",
       "      <td>Edemar Jung</td>\n",
       "      <td>Josias Mascarello</td>\n",
       "      <td>23/12/2020 18:30</td>\n",
       "      <td>6.36</td>\n",
       "      <td>Dinheiro</td>\n",
       "      <td>R</td>\n",
       "      <td>Josias Mascarello</td>\n",
       "      <td>23/12/2020 19:12</td>\n",
       "    </tr>\n",
       "  </tbody>\n",
       "</table>\n",
       "</div>"
      ],
      "text/plain": [
       "                       serviço  ...  data de cadastro\n",
       "0  Cabelo. Barba e Sobrancelha  ...  08/01/2021 17:12\n",
       "1                        Barba  ...  30/12/2020 11:09\n",
       "2         Cabelo e Sobrancelha  ...  13/01/2021 23:20\n",
       "3  Cabelo. Barba e Sobrancelha  ...  08/01/2021 09:12\n",
       "4                  Sobrancelha  ...  29/12/2020 11:42\n",
       "5                  Sobrancelha  ...  12/01/2021 10:10\n",
       "6                  Sobrancelha  ...  16/12/2020 14:29\n",
       "7                  Sobrancelha  ...  06/11/2020 19:40\n",
       "8                  Sobrancelha  ...  16/12/2020 16:14\n",
       "9                  Sobrancelha  ...  23/12/2020 19:12\n",
       "\n",
       "[10 rows x 9 columns]"
      ]
     },
     "execution_count": 66,
     "metadata": {},
     "output_type": "execute_result"
    }
   ],
   "source": [
    "df.head(10)"
   ]
  },
  {
   "cell_type": "code",
   "execution_count": null,
   "metadata": {
    "colab": {
     "base_uri": "https://localhost:8080/"
    },
    "id": "x6_PDjrned_k",
    "outputId": "7ca7d207-7939-4655-a8b3-3c2af2f1aad9"
   },
   "outputs": [
    {
     "data": {
      "text/plain": [
       "servico             2687\n",
       "cliente             2687\n",
       "profissional        2687\n",
       "data                2687\n",
       "valor               2687\n",
       "pagamento           2294\n",
       "status              2687\n",
       "quem cadastrou      2687\n",
       "data de cadastro    2687\n",
       "dtype: int64"
      ]
     },
     "execution_count": 4,
     "metadata": {},
     "output_type": "execute_result"
    }
   ],
   "source": [
    "df.count()"
   ]
  },
  {
   "cell_type": "code",
   "execution_count": null,
   "metadata": {
    "colab": {
     "base_uri": "https://localhost:8080/"
    },
    "id": "9_r476-UebDS",
    "outputId": "a7c4e628-0129-48ad-c76f-7558afc47c1c"
   },
   "outputs": [
    {
     "data": {
      "text/plain": [
       "serviço             1763\n",
       "cliente             1763\n",
       "profissional        1763\n",
       "data                1763\n",
       "valor               1763\n",
       "pagamento           1763\n",
       "status              1763\n",
       "quem cadastrou      1763\n",
       "data de cadastro    1763\n",
       "dtype: int64"
      ]
     },
     "execution_count": 67,
     "metadata": {},
     "output_type": "execute_result"
    }
   ],
   "source": [
    "df = df.dropna()\n",
    "df.count()"
   ]
  },
  {
   "cell_type": "code",
   "execution_count": null,
   "metadata": {
    "colab": {
     "base_uri": "https://localhost:8080/"
    },
    "id": "2DVvSSUnVYV5",
    "outputId": "7e0e57e0-b64c-4692-a23c-9428b21ec64b"
   },
   "outputs": [
    {
     "name": "stdout",
     "output_type": "stream",
     "text": [
      "['Barba' 'Cabelo e Sobrancelha' 'Cabelo. Barba e Sobrancelha'\n",
      " 'Sobrancelha' 'Corte Infantil' 'Corte Masculino' 'Barba e Sobrancelha'\n",
      " 'Cabelo e Barba' 'Platinado sem Corte' 'Platinado Com Corte']\n"
     ]
    }
   ],
   "source": [
    "print(df['serviço'].unique())"
   ]
  },
  {
   "cell_type": "code",
   "execution_count": null,
   "metadata": {
    "colab": {
     "base_uri": "https://localhost:8080/"
    },
    "id": "OrpTBqcVT5Y-",
    "outputId": "2cc23735-b442-455e-8502-9744127debd8"
   },
   "outputs": [
    {
     "name": "stdout",
     "output_type": "stream",
     "text": [
      "['Barba' 'Cabelo e Sobrancelha' 'Cabelo. Barba e Sobrancelha' ...\n",
      " 'Sobrancelha' 'Sobrancelha' 'Sobrancelha']\n"
     ]
    }
   ],
   "source": [
    "values = array(df['serviço'])\n",
    "print(values)"
   ]
  },
  {
   "cell_type": "code",
   "execution_count": null,
   "metadata": {
    "colab": {
     "base_uri": "https://localhost:8080/"
    },
    "id": "_g44JnMZTrMk",
    "outputId": "15f1fafe-a2b5-4e75-8132-c3ccf3ef92e0"
   },
   "outputs": [
    {
     "name": "stdout",
     "output_type": "stream",
     "text": [
      "[0 3 4 ... 9 9 9]\n"
     ]
    }
   ],
   "source": [
    "label_encoder = LabelEncoder()\n",
    "integer_encoded = label_encoder.fit_transform(values)\n",
    "print(integer_encoded)"
   ]
  },
  {
   "cell_type": "code",
   "execution_count": null,
   "metadata": {
    "colab": {
     "base_uri": "https://localhost:8080/",
     "height": 302
    },
    "id": "oGX6JO9-V5cX",
    "outputId": "310df384-fab2-4899-a632-19badbd6bf01"
   },
   "outputs": [
    {
     "data": {
      "text/html": [
       "<div>\n",
       "<style scoped>\n",
       "    .dataframe tbody tr th:only-of-type {\n",
       "        vertical-align: middle;\n",
       "    }\n",
       "\n",
       "    .dataframe tbody tr th {\n",
       "        vertical-align: top;\n",
       "    }\n",
       "\n",
       "    .dataframe thead th {\n",
       "        text-align: right;\n",
       "    }\n",
       "</style>\n",
       "<table border=\"1\" class=\"dataframe\">\n",
       "  <thead>\n",
       "    <tr style=\"text-align: right;\">\n",
       "      <th></th>\n",
       "      <th>serviço</th>\n",
       "      <th>cliente</th>\n",
       "      <th>profissional</th>\n",
       "      <th>data</th>\n",
       "      <th>valor</th>\n",
       "      <th>pagamento</th>\n",
       "      <th>status</th>\n",
       "      <th>quem cadastrou</th>\n",
       "      <th>data de cadastro</th>\n",
       "      <th>ValuesServico</th>\n",
       "    </tr>\n",
       "  </thead>\n",
       "  <tbody>\n",
       "    <tr>\n",
       "      <th>1</th>\n",
       "      <td>Barba</td>\n",
       "      <td>Maikiel Bosing</td>\n",
       "      <td>Josias Mascarello</td>\n",
       "      <td>15/01/2021 15:00</td>\n",
       "      <td>3.00</td>\n",
       "      <td>Dinheiro</td>\n",
       "      <td>R</td>\n",
       "      <td>Josias Mascarello</td>\n",
       "      <td>30/12/2020 11:09</td>\n",
       "      <td>0</td>\n",
       "    </tr>\n",
       "    <tr>\n",
       "      <th>2</th>\n",
       "      <td>Cabelo e Sobrancelha</td>\n",
       "      <td>Kelvin Ersico</td>\n",
       "      <td>Josias Mascarello</td>\n",
       "      <td>15/01/2021 09:00</td>\n",
       "      <td>3.54</td>\n",
       "      <td>Dinheiro</td>\n",
       "      <td>R</td>\n",
       "      <td>Kelvin Ersico</td>\n",
       "      <td>13/01/2021 23:20</td>\n",
       "      <td>3</td>\n",
       "    </tr>\n",
       "    <tr>\n",
       "      <th>3</th>\n",
       "      <td>Cabelo. Barba e Sobrancelha</td>\n",
       "      <td>Edemar Jung</td>\n",
       "      <td>Josias Mascarello</td>\n",
       "      <td>07/01/2021 16:00</td>\n",
       "      <td>4.44</td>\n",
       "      <td>Dinheiro</td>\n",
       "      <td>C</td>\n",
       "      <td>Josias Mascarello</td>\n",
       "      <td>08/01/2021 09:12</td>\n",
       "      <td>4</td>\n",
       "    </tr>\n",
       "    <tr>\n",
       "      <th>4</th>\n",
       "      <td>Sobrancelha</td>\n",
       "      <td>Diane Jung</td>\n",
       "      <td>Josias Mascarello</td>\n",
       "      <td>29/12/2020 09:00</td>\n",
       "      <td>4.45</td>\n",
       "      <td>Dinheiro</td>\n",
       "      <td>R</td>\n",
       "      <td>Josias Mascarello</td>\n",
       "      <td>29/12/2020 11:42</td>\n",
       "      <td>9</td>\n",
       "    </tr>\n",
       "    <tr>\n",
       "      <th>5</th>\n",
       "      <td>Sobrancelha</td>\n",
       "      <td>Diane Jung</td>\n",
       "      <td>Josias Mascarello</td>\n",
       "      <td>09/01/2021 17:00</td>\n",
       "      <td>4.74</td>\n",
       "      <td>Dinheiro</td>\n",
       "      <td>R</td>\n",
       "      <td>Josias Mascarello</td>\n",
       "      <td>12/01/2021 10:10</td>\n",
       "      <td>9</td>\n",
       "    </tr>\n",
       "  </tbody>\n",
       "</table>\n",
       "</div>"
      ],
      "text/plain": [
       "                       serviço         cliente  ...  data de cadastro ValuesServico\n",
       "1                        Barba  Maikiel Bosing  ...  30/12/2020 11:09             0\n",
       "2         Cabelo e Sobrancelha   Kelvin Ersico  ...  13/01/2021 23:20             3\n",
       "3  Cabelo. Barba e Sobrancelha     Edemar Jung  ...  08/01/2021 09:12             4\n",
       "4                  Sobrancelha      Diane Jung  ...  29/12/2020 11:42             9\n",
       "5                  Sobrancelha      Diane Jung  ...  12/01/2021 10:10             9\n",
       "\n",
       "[5 rows x 10 columns]"
      ]
     },
     "execution_count": 72,
     "metadata": {},
     "output_type": "execute_result"
    }
   ],
   "source": [
    "df['ValuesServico'] = integer_encoded\n",
    "df.head(5) "
   ]
  },
  {
   "cell_type": "code",
   "execution_count": null,
   "metadata": {
    "colab": {
     "base_uri": "https://localhost:8080/"
    },
    "id": "G2FqeD8XWe_V",
    "outputId": "f84aec47-616c-487f-d0d0-ced7b0bc56dc"
   },
   "outputs": [
    {
     "name": "stdout",
     "output_type": "stream",
     "text": [
      "['Dinheiro' 'Dinheiro' 'Dinheiro' ... 'Dinheiro' 'Cartão de Crédito'\n",
      " 'Dinheiro']\n"
     ]
    }
   ],
   "source": [
    "values = array(df['pagamento'])\n",
    "print(values)"
   ]
  },
  {
   "cell_type": "code",
   "execution_count": null,
   "metadata": {
    "colab": {
     "base_uri": "https://localhost:8080/"
    },
    "id": "0ZHnG3l7We05",
    "outputId": "e29c83d8-83f3-46b3-b425-02e485767aed"
   },
   "outputs": [
    {
     "name": "stdout",
     "output_type": "stream",
     "text": [
      "[2 2 2 ... 2 0 2]\n"
     ]
    }
   ],
   "source": [
    "label_encoder = LabelEncoder()\n",
    "integer_encoded = label_encoder.fit_transform(values)\n",
    "print(integer_encoded)"
   ]
  },
  {
   "cell_type": "code",
   "execution_count": null,
   "metadata": {
    "colab": {
     "base_uri": "https://localhost:8080/",
     "height": 302
    },
    "id": "5O2spLksespf",
    "outputId": "efe17657-61a3-465e-8af0-5673795688fa"
   },
   "outputs": [
    {
     "data": {
      "text/html": [
       "<div>\n",
       "<style scoped>\n",
       "    .dataframe tbody tr th:only-of-type {\n",
       "        vertical-align: middle;\n",
       "    }\n",
       "\n",
       "    .dataframe tbody tr th {\n",
       "        vertical-align: top;\n",
       "    }\n",
       "\n",
       "    .dataframe thead th {\n",
       "        text-align: right;\n",
       "    }\n",
       "</style>\n",
       "<table border=\"1\" class=\"dataframe\">\n",
       "  <thead>\n",
       "    <tr style=\"text-align: right;\">\n",
       "      <th></th>\n",
       "      <th>serviço</th>\n",
       "      <th>cliente</th>\n",
       "      <th>profissional</th>\n",
       "      <th>data</th>\n",
       "      <th>valor</th>\n",
       "      <th>pagamento</th>\n",
       "      <th>status</th>\n",
       "      <th>quem cadastrou</th>\n",
       "      <th>data de cadastro</th>\n",
       "      <th>ValuesServico</th>\n",
       "      <th>ValuesPagamento</th>\n",
       "    </tr>\n",
       "  </thead>\n",
       "  <tbody>\n",
       "    <tr>\n",
       "      <th>1</th>\n",
       "      <td>Barba</td>\n",
       "      <td>Maikiel Bosing</td>\n",
       "      <td>Josias Mascarello</td>\n",
       "      <td>15/01/2021 15:00</td>\n",
       "      <td>3.00</td>\n",
       "      <td>Dinheiro</td>\n",
       "      <td>R</td>\n",
       "      <td>Josias Mascarello</td>\n",
       "      <td>30/12/2020 11:09</td>\n",
       "      <td>0</td>\n",
       "      <td>2</td>\n",
       "    </tr>\n",
       "    <tr>\n",
       "      <th>2</th>\n",
       "      <td>Cabelo e Sobrancelha</td>\n",
       "      <td>Kelvin Ersico</td>\n",
       "      <td>Josias Mascarello</td>\n",
       "      <td>15/01/2021 09:00</td>\n",
       "      <td>3.54</td>\n",
       "      <td>Dinheiro</td>\n",
       "      <td>R</td>\n",
       "      <td>Kelvin Ersico</td>\n",
       "      <td>13/01/2021 23:20</td>\n",
       "      <td>3</td>\n",
       "      <td>2</td>\n",
       "    </tr>\n",
       "    <tr>\n",
       "      <th>3</th>\n",
       "      <td>Cabelo. Barba e Sobrancelha</td>\n",
       "      <td>Edemar Jung</td>\n",
       "      <td>Josias Mascarello</td>\n",
       "      <td>07/01/2021 16:00</td>\n",
       "      <td>4.44</td>\n",
       "      <td>Dinheiro</td>\n",
       "      <td>C</td>\n",
       "      <td>Josias Mascarello</td>\n",
       "      <td>08/01/2021 09:12</td>\n",
       "      <td>4</td>\n",
       "      <td>2</td>\n",
       "    </tr>\n",
       "    <tr>\n",
       "      <th>4</th>\n",
       "      <td>Sobrancelha</td>\n",
       "      <td>Diane Jung</td>\n",
       "      <td>Josias Mascarello</td>\n",
       "      <td>29/12/2020 09:00</td>\n",
       "      <td>4.45</td>\n",
       "      <td>Dinheiro</td>\n",
       "      <td>R</td>\n",
       "      <td>Josias Mascarello</td>\n",
       "      <td>29/12/2020 11:42</td>\n",
       "      <td>9</td>\n",
       "      <td>2</td>\n",
       "    </tr>\n",
       "    <tr>\n",
       "      <th>5</th>\n",
       "      <td>Sobrancelha</td>\n",
       "      <td>Diane Jung</td>\n",
       "      <td>Josias Mascarello</td>\n",
       "      <td>09/01/2021 17:00</td>\n",
       "      <td>4.74</td>\n",
       "      <td>Dinheiro</td>\n",
       "      <td>R</td>\n",
       "      <td>Josias Mascarello</td>\n",
       "      <td>12/01/2021 10:10</td>\n",
       "      <td>9</td>\n",
       "      <td>2</td>\n",
       "    </tr>\n",
       "  </tbody>\n",
       "</table>\n",
       "</div>"
      ],
      "text/plain": [
       "                       serviço         cliente  ... ValuesServico ValuesPagamento\n",
       "1                        Barba  Maikiel Bosing  ...             0               2\n",
       "2         Cabelo e Sobrancelha   Kelvin Ersico  ...             3               2\n",
       "3  Cabelo. Barba e Sobrancelha     Edemar Jung  ...             4               2\n",
       "4                  Sobrancelha      Diane Jung  ...             9               2\n",
       "5                  Sobrancelha      Diane Jung  ...             9               2\n",
       "\n",
       "[5 rows x 11 columns]"
      ]
     },
     "execution_count": 75,
     "metadata": {},
     "output_type": "execute_result"
    }
   ],
   "source": [
    "df['ValuesPagamento'] = integer_encoded\n",
    "df.head(5) "
   ]
  },
  {
   "cell_type": "code",
   "execution_count": null,
   "metadata": {
    "colab": {
     "base_uri": "https://localhost:8080/"
    },
    "id": "CxAhPOsOfRXb",
    "outputId": "71c01ef8-8d81-4294-d436-17915a465d7b"
   },
   "outputs": [
    {
     "name": "stdout",
     "output_type": "stream",
     "text": [
      "['R' 'R' 'C' ... 'R' 'R' 'R']\n"
     ]
    }
   ],
   "source": [
    "values = array(df['status'])\n",
    "print(values)"
   ]
  },
  {
   "cell_type": "code",
   "execution_count": null,
   "metadata": {
    "colab": {
     "base_uri": "https://localhost:8080/"
    },
    "id": "9er3CooYfRPb",
    "outputId": "e4b829ce-34f4-48ac-875b-de60a0f0e25a"
   },
   "outputs": [
    {
     "name": "stdout",
     "output_type": "stream",
     "text": [
      "[1 1 0 ... 1 1 1]\n"
     ]
    }
   ],
   "source": [
    "label_encoder = LabelEncoder()\n",
    "integer_encoded = label_encoder.fit_transform(values)\n",
    "print(integer_encoded)"
   ]
  },
  {
   "cell_type": "code",
   "execution_count": null,
   "metadata": {
    "colab": {
     "base_uri": "https://localhost:8080/",
     "height": 338
    },
    "id": "0W8yD1V6fRFf",
    "outputId": "8f67906c-2ac6-4276-928f-341f2b9bd693"
   },
   "outputs": [
    {
     "data": {
      "text/html": [
       "<div>\n",
       "<style scoped>\n",
       "    .dataframe tbody tr th:only-of-type {\n",
       "        vertical-align: middle;\n",
       "    }\n",
       "\n",
       "    .dataframe tbody tr th {\n",
       "        vertical-align: top;\n",
       "    }\n",
       "\n",
       "    .dataframe thead th {\n",
       "        text-align: right;\n",
       "    }\n",
       "</style>\n",
       "<table border=\"1\" class=\"dataframe\">\n",
       "  <thead>\n",
       "    <tr style=\"text-align: right;\">\n",
       "      <th></th>\n",
       "      <th>serviço</th>\n",
       "      <th>cliente</th>\n",
       "      <th>profissional</th>\n",
       "      <th>data</th>\n",
       "      <th>valor</th>\n",
       "      <th>pagamento</th>\n",
       "      <th>status</th>\n",
       "      <th>quem cadastrou</th>\n",
       "      <th>data de cadastro</th>\n",
       "      <th>ValuesServico</th>\n",
       "      <th>ValuesPagamento</th>\n",
       "      <th>ValuesStatus</th>\n",
       "    </tr>\n",
       "  </thead>\n",
       "  <tbody>\n",
       "    <tr>\n",
       "      <th>1</th>\n",
       "      <td>Barba</td>\n",
       "      <td>Maikiel Bosing</td>\n",
       "      <td>Josias Mascarello</td>\n",
       "      <td>15/01/2021 15:00</td>\n",
       "      <td>3.00</td>\n",
       "      <td>Dinheiro</td>\n",
       "      <td>R</td>\n",
       "      <td>Josias Mascarello</td>\n",
       "      <td>30/12/2020 11:09</td>\n",
       "      <td>0</td>\n",
       "      <td>2</td>\n",
       "      <td>1</td>\n",
       "    </tr>\n",
       "    <tr>\n",
       "      <th>2</th>\n",
       "      <td>Cabelo e Sobrancelha</td>\n",
       "      <td>Kelvin Ersico</td>\n",
       "      <td>Josias Mascarello</td>\n",
       "      <td>15/01/2021 09:00</td>\n",
       "      <td>3.54</td>\n",
       "      <td>Dinheiro</td>\n",
       "      <td>R</td>\n",
       "      <td>Kelvin Ersico</td>\n",
       "      <td>13/01/2021 23:20</td>\n",
       "      <td>3</td>\n",
       "      <td>2</td>\n",
       "      <td>1</td>\n",
       "    </tr>\n",
       "    <tr>\n",
       "      <th>3</th>\n",
       "      <td>Cabelo. Barba e Sobrancelha</td>\n",
       "      <td>Edemar Jung</td>\n",
       "      <td>Josias Mascarello</td>\n",
       "      <td>07/01/2021 16:00</td>\n",
       "      <td>4.44</td>\n",
       "      <td>Dinheiro</td>\n",
       "      <td>C</td>\n",
       "      <td>Josias Mascarello</td>\n",
       "      <td>08/01/2021 09:12</td>\n",
       "      <td>4</td>\n",
       "      <td>2</td>\n",
       "      <td>0</td>\n",
       "    </tr>\n",
       "    <tr>\n",
       "      <th>4</th>\n",
       "      <td>Sobrancelha</td>\n",
       "      <td>Diane Jung</td>\n",
       "      <td>Josias Mascarello</td>\n",
       "      <td>29/12/2020 09:00</td>\n",
       "      <td>4.45</td>\n",
       "      <td>Dinheiro</td>\n",
       "      <td>R</td>\n",
       "      <td>Josias Mascarello</td>\n",
       "      <td>29/12/2020 11:42</td>\n",
       "      <td>9</td>\n",
       "      <td>2</td>\n",
       "      <td>1</td>\n",
       "    </tr>\n",
       "    <tr>\n",
       "      <th>5</th>\n",
       "      <td>Sobrancelha</td>\n",
       "      <td>Diane Jung</td>\n",
       "      <td>Josias Mascarello</td>\n",
       "      <td>09/01/2021 17:00</td>\n",
       "      <td>4.74</td>\n",
       "      <td>Dinheiro</td>\n",
       "      <td>R</td>\n",
       "      <td>Josias Mascarello</td>\n",
       "      <td>12/01/2021 10:10</td>\n",
       "      <td>9</td>\n",
       "      <td>2</td>\n",
       "      <td>1</td>\n",
       "    </tr>\n",
       "  </tbody>\n",
       "</table>\n",
       "</div>"
      ],
      "text/plain": [
       "                       serviço         cliente  ... ValuesPagamento ValuesStatus\n",
       "1                        Barba  Maikiel Bosing  ...               2            1\n",
       "2         Cabelo e Sobrancelha   Kelvin Ersico  ...               2            1\n",
       "3  Cabelo. Barba e Sobrancelha     Edemar Jung  ...               2            0\n",
       "4                  Sobrancelha      Diane Jung  ...               2            1\n",
       "5                  Sobrancelha      Diane Jung  ...               2            1\n",
       "\n",
       "[5 rows x 12 columns]"
      ]
     },
     "execution_count": 78,
     "metadata": {},
     "output_type": "execute_result"
    }
   ],
   "source": [
    "df['ValuesStatus'] = integer_encoded\n",
    "df.head(5) "
   ]
  },
  {
   "cell_type": "code",
   "execution_count": null,
   "metadata": {
    "colab": {
     "base_uri": "https://localhost:8080/"
    },
    "id": "uH2b4PbTfuKn",
    "outputId": "ccad550d-1394-4fc8-9230-225f9172410d"
   },
   "outputs": [
    {
     "name": "stdout",
     "output_type": "stream",
     "text": [
      "['Maikiel Bosing' 'Kelvin Ersico' 'Edemar Jung' ... 'Diane Jung'\n",
      " 'Anderson Pierok' 'Diane Jung']\n"
     ]
    }
   ],
   "source": [
    "values = array(df['cliente'])\n",
    "print(values)"
   ]
  },
  {
   "cell_type": "code",
   "execution_count": null,
   "metadata": {
    "colab": {
     "base_uri": "https://localhost:8080/"
    },
    "id": "7pIPwYKUfuC3",
    "outputId": "b70987cd-0c53-4d29-fb20-84b6c399af24"
   },
   "outputs": [
    {
     "name": "stdout",
     "output_type": "stream",
     "text": [
      "[201 175  73 ...  62  17  62]\n"
     ]
    }
   ],
   "source": [
    "label_encoder = LabelEncoder()\n",
    "integer_encoded = label_encoder.fit_transform(values)\n",
    "print(integer_encoded)"
   ]
  },
  {
   "cell_type": "code",
   "execution_count": null,
   "metadata": {
    "colab": {
     "base_uri": "https://localhost:8080/",
     "height": 338
    },
    "id": "l-nb6pZlft62",
    "outputId": "1ce529ad-2689-4efb-e700-584aebaf79b1"
   },
   "outputs": [
    {
     "data": {
      "text/html": [
       "<div>\n",
       "<style scoped>\n",
       "    .dataframe tbody tr th:only-of-type {\n",
       "        vertical-align: middle;\n",
       "    }\n",
       "\n",
       "    .dataframe tbody tr th {\n",
       "        vertical-align: top;\n",
       "    }\n",
       "\n",
       "    .dataframe thead th {\n",
       "        text-align: right;\n",
       "    }\n",
       "</style>\n",
       "<table border=\"1\" class=\"dataframe\">\n",
       "  <thead>\n",
       "    <tr style=\"text-align: right;\">\n",
       "      <th></th>\n",
       "      <th>serviço</th>\n",
       "      <th>cliente</th>\n",
       "      <th>profissional</th>\n",
       "      <th>data</th>\n",
       "      <th>valor</th>\n",
       "      <th>pagamento</th>\n",
       "      <th>status</th>\n",
       "      <th>quem cadastrou</th>\n",
       "      <th>data de cadastro</th>\n",
       "      <th>ValuesServico</th>\n",
       "      <th>ValuesPagamento</th>\n",
       "      <th>ValuesStatus</th>\n",
       "      <th>ValuesClientes</th>\n",
       "    </tr>\n",
       "  </thead>\n",
       "  <tbody>\n",
       "    <tr>\n",
       "      <th>1</th>\n",
       "      <td>Barba</td>\n",
       "      <td>Maikiel Bosing</td>\n",
       "      <td>Josias Mascarello</td>\n",
       "      <td>15/01/2021 15:00</td>\n",
       "      <td>3.00</td>\n",
       "      <td>Dinheiro</td>\n",
       "      <td>R</td>\n",
       "      <td>Josias Mascarello</td>\n",
       "      <td>30/12/2020 11:09</td>\n",
       "      <td>0</td>\n",
       "      <td>2</td>\n",
       "      <td>1</td>\n",
       "      <td>201</td>\n",
       "    </tr>\n",
       "    <tr>\n",
       "      <th>2</th>\n",
       "      <td>Cabelo e Sobrancelha</td>\n",
       "      <td>Kelvin Ersico</td>\n",
       "      <td>Josias Mascarello</td>\n",
       "      <td>15/01/2021 09:00</td>\n",
       "      <td>3.54</td>\n",
       "      <td>Dinheiro</td>\n",
       "      <td>R</td>\n",
       "      <td>Kelvin Ersico</td>\n",
       "      <td>13/01/2021 23:20</td>\n",
       "      <td>3</td>\n",
       "      <td>2</td>\n",
       "      <td>1</td>\n",
       "      <td>175</td>\n",
       "    </tr>\n",
       "    <tr>\n",
       "      <th>3</th>\n",
       "      <td>Cabelo. Barba e Sobrancelha</td>\n",
       "      <td>Edemar Jung</td>\n",
       "      <td>Josias Mascarello</td>\n",
       "      <td>07/01/2021 16:00</td>\n",
       "      <td>4.44</td>\n",
       "      <td>Dinheiro</td>\n",
       "      <td>C</td>\n",
       "      <td>Josias Mascarello</td>\n",
       "      <td>08/01/2021 09:12</td>\n",
       "      <td>4</td>\n",
       "      <td>2</td>\n",
       "      <td>0</td>\n",
       "      <td>73</td>\n",
       "    </tr>\n",
       "    <tr>\n",
       "      <th>4</th>\n",
       "      <td>Sobrancelha</td>\n",
       "      <td>Diane Jung</td>\n",
       "      <td>Josias Mascarello</td>\n",
       "      <td>29/12/2020 09:00</td>\n",
       "      <td>4.45</td>\n",
       "      <td>Dinheiro</td>\n",
       "      <td>R</td>\n",
       "      <td>Josias Mascarello</td>\n",
       "      <td>29/12/2020 11:42</td>\n",
       "      <td>9</td>\n",
       "      <td>2</td>\n",
       "      <td>1</td>\n",
       "      <td>62</td>\n",
       "    </tr>\n",
       "    <tr>\n",
       "      <th>5</th>\n",
       "      <td>Sobrancelha</td>\n",
       "      <td>Diane Jung</td>\n",
       "      <td>Josias Mascarello</td>\n",
       "      <td>09/01/2021 17:00</td>\n",
       "      <td>4.74</td>\n",
       "      <td>Dinheiro</td>\n",
       "      <td>R</td>\n",
       "      <td>Josias Mascarello</td>\n",
       "      <td>12/01/2021 10:10</td>\n",
       "      <td>9</td>\n",
       "      <td>2</td>\n",
       "      <td>1</td>\n",
       "      <td>62</td>\n",
       "    </tr>\n",
       "  </tbody>\n",
       "</table>\n",
       "</div>"
      ],
      "text/plain": [
       "                       serviço         cliente  ... ValuesStatus ValuesClientes\n",
       "1                        Barba  Maikiel Bosing  ...            1            201\n",
       "2         Cabelo e Sobrancelha   Kelvin Ersico  ...            1            175\n",
       "3  Cabelo. Barba e Sobrancelha     Edemar Jung  ...            0             73\n",
       "4                  Sobrancelha      Diane Jung  ...            1             62\n",
       "5                  Sobrancelha      Diane Jung  ...            1             62\n",
       "\n",
       "[5 rows x 13 columns]"
      ]
     },
     "execution_count": 81,
     "metadata": {},
     "output_type": "execute_result"
    }
   ],
   "source": [
    "df['ValuesClientes'] = integer_encoded\n",
    "df.head(5) "
   ]
  },
  {
   "cell_type": "code",
   "execution_count": null,
   "metadata": {
    "colab": {
     "base_uri": "https://localhost:8080/",
     "height": 545
    },
    "id": "TEjh33yhSNWZ",
    "outputId": "7c0ae917-e3cb-4d7a-c527-c03d2f78fb1e"
   },
   "outputs": [
    {
     "data": {
      "text/html": [
       "<div>\n",
       "<style scoped>\n",
       "    .dataframe tbody tr th:only-of-type {\n",
       "        vertical-align: middle;\n",
       "    }\n",
       "\n",
       "    .dataframe tbody tr th {\n",
       "        vertical-align: top;\n",
       "    }\n",
       "\n",
       "    .dataframe thead th {\n",
       "        text-align: right;\n",
       "    }\n",
       "</style>\n",
       "<table border=\"1\" class=\"dataframe\">\n",
       "  <thead>\n",
       "    <tr style=\"text-align: right;\">\n",
       "      <th></th>\n",
       "      <th>valor</th>\n",
       "      <th>ValuesServico</th>\n",
       "      <th>ValuesPagamento</th>\n",
       "      <th>ValuesStatus</th>\n",
       "      <th>ValuesClientes</th>\n",
       "    </tr>\n",
       "  </thead>\n",
       "  <tbody>\n",
       "    <tr>\n",
       "      <th>valor</th>\n",
       "      <td>1.000000</td>\n",
       "      <td>-0.360435</td>\n",
       "      <td>-0.079521</td>\n",
       "      <td>0.097296</td>\n",
       "      <td>0.068654</td>\n",
       "    </tr>\n",
       "    <tr>\n",
       "      <th>ValuesServico</th>\n",
       "      <td>-0.360435</td>\n",
       "      <td>1.000000</td>\n",
       "      <td>0.026351</td>\n",
       "      <td>0.005364</td>\n",
       "      <td>-0.041733</td>\n",
       "    </tr>\n",
       "    <tr>\n",
       "      <th>ValuesPagamento</th>\n",
       "      <td>-0.079521</td>\n",
       "      <td>0.026351</td>\n",
       "      <td>1.000000</td>\n",
       "      <td>-0.006106</td>\n",
       "      <td>0.042553</td>\n",
       "    </tr>\n",
       "    <tr>\n",
       "      <th>ValuesStatus</th>\n",
       "      <td>0.097296</td>\n",
       "      <td>0.005364</td>\n",
       "      <td>-0.006106</td>\n",
       "      <td>1.000000</td>\n",
       "      <td>-0.029743</td>\n",
       "    </tr>\n",
       "    <tr>\n",
       "      <th>ValuesClientes</th>\n",
       "      <td>0.068654</td>\n",
       "      <td>-0.041733</td>\n",
       "      <td>0.042553</td>\n",
       "      <td>-0.029743</td>\n",
       "      <td>1.000000</td>\n",
       "    </tr>\n",
       "  </tbody>\n",
       "</table>\n",
       "</div>"
      ],
      "text/plain": [
       "                    valor  ValuesServico  ...  ValuesStatus  ValuesClientes\n",
       "valor            1.000000      -0.360435  ...      0.097296        0.068654\n",
       "ValuesServico   -0.360435       1.000000  ...      0.005364       -0.041733\n",
       "ValuesPagamento -0.079521       0.026351  ...     -0.006106        0.042553\n",
       "ValuesStatus     0.097296       0.005364  ...      1.000000       -0.029743\n",
       "ValuesClientes   0.068654      -0.041733  ...     -0.029743        1.000000\n",
       "\n",
       "[5 rows x 5 columns]"
      ]
     },
     "execution_count": 82,
     "metadata": {},
     "output_type": "execute_result"
    },
    {
     "data": {
      "image/png": "[encoded data removed]",
      "text/plain": [
       "<Figure size 432x288 with 2 Axes>"
      ]
     },
     "metadata": {
      "needs_background": "light"
     },
     "output_type": "display_data"
    }
   ],
   "source": [
    "c= df.corr()\n",
    "sns.heatmap(c, cmap=\"BrBG\", annot=True)\n",
    "c"
   ]
  },
  {
   "cell_type": "code",
   "execution_count": null,
   "metadata": {
    "colab": {
     "base_uri": "https://localhost:8080/",
     "height": 355
    },
    "id": "LlwSFUu1RpFl",
    "outputId": "0917f8cc-653c-4e11-d35c-32e1dfa221ef"
   },
   "outputs": [
    {
     "data": {
      "text/html": [
       "<div>\n",
       "<style scoped>\n",
       "    .dataframe tbody tr th:only-of-type {\n",
       "        vertical-align: middle;\n",
       "    }\n",
       "\n",
       "    .dataframe tbody tr th {\n",
       "        vertical-align: top;\n",
       "    }\n",
       "\n",
       "    .dataframe thead th {\n",
       "        text-align: right;\n",
       "    }\n",
       "</style>\n",
       "<table border=\"1\" class=\"dataframe\">\n",
       "  <thead>\n",
       "    <tr style=\"text-align: right;\">\n",
       "      <th></th>\n",
       "      <th>cliente</th>\n",
       "      <th>ValuesClientes</th>\n",
       "      <th>valor</th>\n",
       "      <th>pocento</th>\n",
       "    </tr>\n",
       "  </thead>\n",
       "  <tbody>\n",
       "    <tr>\n",
       "      <th>0</th>\n",
       "      <td>Wallaci Felipe</td>\n",
       "      <td>285</td>\n",
       "      <td>920.0</td>\n",
       "      <td>16.681777</td>\n",
       "    </tr>\n",
       "    <tr>\n",
       "      <th>1</th>\n",
       "      <td>Flávio Lemos</td>\n",
       "      <td>102</td>\n",
       "      <td>705.0</td>\n",
       "      <td>12.783318</td>\n",
       "    </tr>\n",
       "    <tr>\n",
       "      <th>2</th>\n",
       "      <td>Rauber Bort</td>\n",
       "      <td>242</td>\n",
       "      <td>632.5</td>\n",
       "      <td>11.468722</td>\n",
       "    </tr>\n",
       "    <tr>\n",
       "      <th>3</th>\n",
       "      <td>Jonathan Albani</td>\n",
       "      <td>160</td>\n",
       "      <td>515.0</td>\n",
       "      <td>9.338169</td>\n",
       "    </tr>\n",
       "    <tr>\n",
       "      <th>4</th>\n",
       "      <td>Cleomar Gomes da Silva</td>\n",
       "      <td>37</td>\n",
       "      <td>490.0</td>\n",
       "      <td>8.884859</td>\n",
       "    </tr>\n",
       "    <tr>\n",
       "      <th>5</th>\n",
       "      <td>Nathan  Ersico</td>\n",
       "      <td>229</td>\n",
       "      <td>487.5</td>\n",
       "      <td>8.839529</td>\n",
       "    </tr>\n",
       "    <tr>\n",
       "      <th>6</th>\n",
       "      <td>Daivid Junior</td>\n",
       "      <td>45</td>\n",
       "      <td>485.0</td>\n",
       "      <td>8.794198</td>\n",
       "    </tr>\n",
       "    <tr>\n",
       "      <th>7</th>\n",
       "      <td>Jeferson Júnior</td>\n",
       "      <td>149</td>\n",
       "      <td>465.0</td>\n",
       "      <td>8.431550</td>\n",
       "    </tr>\n",
       "    <tr>\n",
       "      <th>8</th>\n",
       "      <td>Guilherme Franceschi</td>\n",
       "      <td>119</td>\n",
       "      <td>410.0</td>\n",
       "      <td>7.434270</td>\n",
       "    </tr>\n",
       "    <tr>\n",
       "      <th>9</th>\n",
       "      <td>Roberto Michatowski</td>\n",
       "      <td>250</td>\n",
       "      <td>405.0</td>\n",
       "      <td>7.343608</td>\n",
       "    </tr>\n",
       "  </tbody>\n",
       "</table>\n",
       "</div>"
      ],
      "text/plain": [
       "                  cliente  ValuesClientes  valor    pocento\n",
       "0          Wallaci Felipe             285  920.0  16.681777\n",
       "1            Flávio Lemos             102  705.0  12.783318\n",
       "2             Rauber Bort             242  632.5  11.468722\n",
       "3         Jonathan Albani             160  515.0   9.338169\n",
       "4  Cleomar Gomes da Silva              37  490.0   8.884859\n",
       "5          Nathan  Ersico             229  487.5   8.839529\n",
       "6           Daivid Junior              45  485.0   8.794198\n",
       "7         Jeferson Júnior             149  465.0   8.431550\n",
       "8    Guilherme Franceschi             119  410.0   7.434270\n",
       "9     Roberto Michatowski             250  405.0   7.343608"
      ]
     },
     "execution_count": 133,
     "metadata": {},
     "output_type": "execute_result"
    }
   ],
   "source": [
    "dfValores = df.groupby(by=['cliente', 'ValuesClientes'])['valor'].sum().reset_index()\n",
    "dfValores = dfValores.sort_values(by=['valor'], ascending=False, ignore_index=True).head(10)\n",
    "dfValores['pocento'] = (dfValores['valor']/dfValores['valor'].sum())*100\n",
    "dfValores\n",
    "#top 10"
   ]
  },
  {
   "cell_type": "code",
   "execution_count": null,
   "metadata": {
    "colab": {
     "base_uri": "https://localhost:8080/",
     "height": 453
    },
    "id": "_UQLJ_UDO3Vg",
    "outputId": "b0077ccd-4259-45d0-918d-e09c2ee1d16a"
   },
   "outputs": [
    {
     "data": {
      "text/plain": [
       "<matplotlib.axes._subplots.AxesSubplot at 0x7f2d21eac110>"
      ]
     },
     "execution_count": 164,
     "metadata": {},
     "output_type": "execute_result"
    },
    {
     "data": {
      "image/png": "[encoded data removed]",
      "text/plain": [
       "<Figure size 1152x576 with 1 Axes>"
      ]
     },
     "metadata": {},
     "output_type": "display_data"
    }
   ],
   "source": [
    "#Identificar clientes que mais utilizaram os serviços \n",
    "plt.figure(figsize=(16,8))\n",
    "# plot chart\n",
    "ax1 = plt.subplot(121, aspect='equal')\n",
    "dfValores.plot(kind='pie', y = 'valor', ax=ax1, counterclock = False, \n",
    " startangle=90, shadow=True, labels=dfValores['cliente'], legend = False, fontsize=10)\n"
   ]
  }
 ],
 "metadata": {
  "colab": {
   "name": "Barbearia29091.ipynb",
   "provenance": []
  },
  "kernelspec": {
   "display_name": "Python 3 (ipykernel)",
   "language": "python",
   "name": "python3"
  },
  "language_info": {
   "codemirror_mode": {
    "name": "ipython",
    "version": 3
   },
   "file_extension": ".py",
   "mimetype": "text/x-python",
   "name": "python",
   "nbconvert_exporter": "python",
   "pygments_lexer": "ipython3",
   "version": "3.8.13"
  }
 },
 "nbformat": 4,
 "nbformat_minor": 1
}
